{
 "cells": [
  {
   "cell_type": "code",
   "execution_count": 23,
   "metadata": {},
   "outputs": [
    {
     "name": "stdout",
     "output_type": "stream",
     "text": [
      "json completed\n",
      "file loaded\n",
      "{'employee1': {'name': 'Jiban', 'DOB': '18 JAN 1999', 'Height': '175 cm', 'city': 'Joda', 'state': 'Odisha'}, 'employee2': {'neme': 'jitu', 'DOB': '17 jan 1999', 'Height': '170 cm', 'city': 'BBSR', 'state': 'Bihar'}, 'employee3': {'name': 'purna', 'DOB': '13 oct 1968', 'height': '167 cm', 'city': 'pandia', 'state': 'jharkhand'}, 'employee4': {'name': 'ramani', 'DOB': '13 may 1974', 'height': '165 cm', 'city': 'Balasore', 'state': 'odisha'}, 'employee5': {'name': 'deva', 'DOB': '29 oct 2001', 'Height': '170 cm', 'city': 'barbil', 'state': 'kerala'}}\n"
     ]
    }
   ],
   "source": [
    "import json\n",
    "employee = {\"employee1\":{\"name\":\"Jiban\",\"DOB\":\"18 JAN 1999\",\"Height\":\"175 cm\",\"city\":\"Joda\",\"state\":\"Odisha\"},\n",
    "\"employee2\":{\"neme\":\"jitu\",\"DOB\":\"17 jan 1999\",\"Height\":\"170 cm\",\"city\":\"BBSR\",\"state\":\"Bihar\"},\n",
    "\"employee3\":{\"name\":\"purna\",\"DOB\":\"13 oct 1968\",\"height\":\"167 cm\",\"city\":\"pandia\",\"state\":\"jharkhand\"},\n",
    "\"employee4\":{\"name\":\"ramani\",\"DOB\":\"13 may 1974\",\"height\":\"165 cm\",\"city\":\"Balasore\",\"state\":\"odisha\"},\n",
    "\"employee5\":{\"name\":\"deva\",\"DOB\":\"29 oct 2001\",\"Height\":\"170 cm\",\"city\":\"barbil\",\"state\":\"kerala\"}}\n",
    "with open(\"employee.json\",\"w\") as f:\n",
    "    json.dump(employee,f)\n",
    "    print(\"json completed\")\n",
    "with open(\"employee.json\",\"r\") as f:\n",
    "    x= json.load(f)\n",
    "    print(\"file loaded\")\n",
    "    print(x)"
   ]
  },
  {
   "cell_type": "code",
   "execution_count": 7,
   "metadata": {},
   "outputs": [
    {
     "name": "stdout",
     "output_type": "stream",
     "text": [
      "upload completed\n"
     ]
    }
   ],
   "source": [
    "import json\n",
    "capitals={\"Andhrapradesh\":\"Amaravati\",\"Goa\":\"Panji\",\"Jharkhand\":\"Ranchi\",\"Karnataka\":\"Bangalore\",\"Odisha\":\"Bhubaneswar\",\"Punjab\":\"Chandigarh\",\"Nagaland\":\"Kohima\"}\n",
    "with open(\"capitals.json\",\"w\") as f:\n",
    "    json.dump(capitals , f)\n",
    "    print(\"upload completed\")"
   ]
  }
 ],
 "metadata": {
  "kernelspec": {
   "display_name": "Python 3.10.7 64-bit",
   "language": "python",
   "name": "python3"
  },
  "language_info": {
   "codemirror_mode": {
    "name": "ipython",
    "version": 3
   },
   "file_extension": ".py",
   "mimetype": "text/x-python",
   "name": "python",
   "nbconvert_exporter": "python",
   "pygments_lexer": "ipython3",
   "version": "3.10.7"
  },
  "orig_nbformat": 4,
  "vscode": {
   "interpreter": {
    "hash": "0d72b21489300652f2337cd7f80c57cc00ce6bbc92cf98d285c178d0a8ced433"
   }
  }
 },
 "nbformat": 4,
 "nbformat_minor": 2
}
