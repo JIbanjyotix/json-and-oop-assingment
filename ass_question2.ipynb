{
  "nbformat": 4,
  "nbformat_minor": 0,
  "metadata": {
    "colab": {
      "provenance": []
    },
    "kernelspec": {
      "name": "python3",
      "display_name": "Python 3"
    },
    "language_info": {
      "name": "python"
    }
  },
  "cells": [
    {
      "cell_type": "code",
      "execution_count": 1,
      "metadata": {
        "colab": {
          "base_uri": "https://localhost:8080/"
        },
        "id": "XRuV33hKj_oS",
        "outputId": "8c52d9dd-07a5-454f-f19b-b0bb665fd48a"
      },
      "outputs": [
        {
          "output_type": "stream",
          "name": "stdout",
          "text": [
            "enter nameRocky\n",
            "enter age13 years\n",
            "enter coat colourBrown\n",
            "dog constructor\n",
            "Name is:  Rocky\n",
            "age is:  13 years\n",
            "--------\n",
            "coat colour is:  Brown\n",
            "------JackRusselTerrier------\n",
            "name is:  sheru\n",
            "age is:  7 years\n",
            "coat colour is:  Brown\n",
            "-----Bull dog------\n",
            "name is:  kurama\n",
            "age is:  5 years\n",
            "coat colour is:  Brown\n"
          ]
        }
      ],
      "source": [
        "class dog:\n",
        "    name=str(input(\"enter name\"))\n",
        "    age=str(input(\"enter age\"))\n",
        "    coat_colour=str(input(\"enter coat colour\"))\n",
        "    def description(self):\n",
        "        print(\"dog constructor\")\n",
        "        print(\"Name is: \",self.name)\n",
        "        print(\"age is: \",self.age)\n",
        "    def get_info(self):\n",
        "        print(\"coat colour is: \",self.coat_colour)\n",
        "\n",
        "class JackRusselTerrier(dog):\n",
        "    name=\"sheru\"\n",
        "    age=\"7 years\"\n",
        "    def __init__(self):\n",
        "        super().__init__()\n",
        "        print(\"------JackRusselTerrier------\")\n",
        "        print(\"name is: \",JackRusselTerrier.name)\n",
        "        print(\"age is: \",JackRusselTerrier.age)\n",
        "        print(\"coat colour is: \",super().coat_colour)\n",
        "\n",
        "\n",
        "class bulldog(dog):\n",
        "    name=\"kurama\"\n",
        "    age=\"5 years\"\n",
        "    def __init__(self):\n",
        "        super().__init__()\n",
        "        print(\"-----Bull dog------\")\n",
        "        print(\"name is: \",bulldog.name)\n",
        "        print(\"age is: \",bulldog.age)\n",
        "        print(\"coat colour is: \",super().coat_colour)\n",
        "\n",
        "x=dog()\n",
        "x.description()\n",
        "print(\"--------\")\n",
        "x.get_info()\n",
        "c=JackRusselTerrier()\n",
        "d=bulldog()\n",
        "\n",
        "\n"
      ]
    }
  ]
}